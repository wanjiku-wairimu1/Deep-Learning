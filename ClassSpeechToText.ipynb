{
  "cells": [
    {
      "cell_type": "markdown",
      "metadata": {
        "id": "view-in-github",
        "colab_type": "text"
      },
      "source": [
        "<a href=\"https://colab.research.google.com/github/wanjiku-wairimu1/Deep-Learning/blob/main/ClassSpeechToText.ipynb\" target=\"_parent\"><img src=\"https://colab.research.google.com/assets/colab-badge.svg\" alt=\"Open In Colab\"/></a>"
      ]
    },
    {
      "cell_type": "code",
      "execution_count": null,
      "metadata": {
        "colab": {
          "base_uri": "https://localhost:8080/"
        },
        "id": "boYBZQbQES7Q",
        "outputId": "762708f6-2307-41cd-8808-2b3888bb9a40"
      },
      "outputs": [
        {
          "output_type": "stream",
          "name": "stdout",
          "text": [
            "Drive already mounted at /content/drive; to attempt to forcibly remount, call drive.mount(\"/content/drive\", force_remount=True).\n"
          ]
        }
      ],
      "source": [
        "from google.colab import drive\n",
        "drive.mount('/content/drive')"
      ]
    },
    {
      "cell_type": "code",
      "execution_count": null,
      "metadata": {
        "id": "9zbZmYg7Ehs8"
      },
      "outputs": [],
      "source": [
        "\n",
        "import os\n",
        "import librosa\n",
        "import IPython.display as ipd\n",
        "import matplotlib.pyplot as plt\n",
        "import numpy as np\n",
        "from scipy.io import wavfile\n",
        "from tqdm import tqdm\n"
      ]
    },
    {
      "cell_type": "code",
      "execution_count": null,
      "metadata": {
        "colab": {
          "base_uri": "https://localhost:8080/"
        },
        "id": "PnLYlSqKEppP",
        "outputId": "240626ef-ef4a-4919-d2b9-1d3ec8b7271a"
      },
      "outputs": [
        {
          "output_type": "stream",
          "name": "stderr",
          "text": [
            "100%|██████████| 3/3 [03:00<00:00, 60.23s/it]\n"
          ]
        }
      ],
      "source": [
        "# Subsample\n",
        "labels = [\n",
        "    'down', 'left', 'up',\n",
        "]\n",
        "train_audio_path = '/content/drive/MyDrive/audio'\n",
        "\n",
        "all_wave = []\n",
        "all_label = []\n",
        "for label in tqdm(labels):\n",
        "    waves = [f for f in os.listdir(train_audio_path + '/'+ label) if f.endswith('.wav')]\n",
        "    for wav in waves:\n",
        "        samples, sample_rate = librosa.load(train_audio_path + '/' + label + '/' + wav, sr = 16000)\n",
        "        samples = librosa.resample(samples, sample_rate, 8000)\n",
        "        if(len(samples)== 8000) : \n",
        "            all_wave.append(samples)\n",
        "            all_label.append(label)"
      ]
    },
    {
      "cell_type": "code",
      "execution_count": null,
      "metadata": {
        "id": "ZUjQbPGnFDAx"
      },
      "outputs": [],
      "source": [
        "from sklearn.preprocessing import LabelEncoder\n",
        "from keras.utils import np_utils\n",
        "\n",
        "label_enconder = LabelEncoder()\n",
        "y = label_enconder.fit_transform(all_label)\n",
        "classes = list(label_enconder.classes_)\n",
        "classes\n",
        "y = np_utils.to_categorical(y, num_classes=len(labels))"
      ]
    },
    {
      "cell_type": "code",
      "execution_count": null,
      "metadata": {
        "id": "5fYnJOqpFE5H"
      },
      "outputs": [],
      "source": [
        "all_wave = np.array(all_wave).reshape(-1,8000,1)"
      ]
    },
    {
      "cell_type": "code",
      "execution_count": null,
      "metadata": {
        "id": "HiT7G58AFHxs"
      },
      "outputs": [],
      "source": [
        "from sklearn.model_selection import train_test_split\n",
        "x_train, x_valid, y_train, y_valid = train_test_split(np.array(all_wave),np.array(y),stratify=y,test_size = 0.2,random_state=777,shuffle=True)"
      ]
    },
    {
      "cell_type": "code",
      "execution_count": null,
      "metadata": {
        "id": "PHlve5rrFOmK"
      },
      "outputs": [],
      "source": [
        "from keras.layers import Bidirectional, BatchNormalization, CuDNNGRU, TimeDistributed"
      ]
    },
    {
      "cell_type": "code",
      "execution_count": null,
      "metadata": {
        "colab": {
          "base_uri": "https://localhost:8080/"
        },
        "id": "DeCU0BONFTGr",
        "outputId": "e46da743-7a96-46aa-d6ed-075e60284c9c"
      },
      "outputs": [
        {
          "output_type": "stream",
          "name": "stdout",
          "text": [
            "Model: \"model\"\n",
            "_________________________________________________________________\n",
            " Layer (type)                Output Shape              Param #   \n",
            "=================================================================\n",
            " input_1 (InputLayer)        [(None, 8000, 1)]         0         \n",
            "                                                                 \n",
            " batch_normalization (BatchN  (None, 8000, 1)          4         \n",
            " ormalization)                                                   \n",
            "                                                                 \n",
            " conv1d (Conv1D)             (None, 7988, 8)           112       \n",
            "                                                                 \n",
            " max_pooling1d (MaxPooling1D  (None, 2662, 8)          0         \n",
            " )                                                               \n",
            "                                                                 \n",
            " dropout (Dropout)           (None, 2662, 8)           0         \n",
            "                                                                 \n",
            " conv1d_1 (Conv1D)           (None, 2652, 16)          1424      \n",
            "                                                                 \n",
            " max_pooling1d_1 (MaxPooling  (None, 884, 16)          0         \n",
            " 1D)                                                             \n",
            "                                                                 \n",
            " dropout_1 (Dropout)         (None, 884, 16)           0         \n",
            "                                                                 \n",
            " conv1d_2 (Conv1D)           (None, 876, 32)           4640      \n",
            "                                                                 \n",
            " max_pooling1d_2 (MaxPooling  (None, 292, 32)          0         \n",
            " 1D)                                                             \n",
            "                                                                 \n",
            " dropout_2 (Dropout)         (None, 292, 32)           0         \n",
            "                                                                 \n",
            " batch_normalization_1 (Batc  (None, 292, 32)          128       \n",
            " hNormalization)                                                 \n",
            "                                                                 \n",
            " bidirectional (Bidirectiona  (None, 292, 128)         124416    \n",
            " l)                                                              \n",
            "                                                                 \n",
            " bidirectional_1 (Bidirectio  (None, 292, 128)         198144    \n",
            " nal)                                                            \n",
            "                                                                 \n",
            " bidirectional_2 (Bidirectio  (None, 128)              198144    \n",
            " nal)                                                            \n",
            "                                                                 \n",
            " batch_normalization_2 (Batc  (None, 128)              512       \n",
            " hNormalization)                                                 \n",
            "                                                                 \n",
            " dense (Dense)               (None, 256)               33024     \n",
            "                                                                 \n",
            " dense_1 (Dense)             (None, 3)                 771       \n",
            "                                                                 \n",
            "=================================================================\n",
            "Total params: 561,319\n",
            "Trainable params: 560,997\n",
            "Non-trainable params: 322\n",
            "_________________________________________________________________\n"
          ]
        }
      ],
      "source": [
        "from keras.layers import Dense, Dropout, Flatten, Conv1D, Input, MaxPooling1D\n",
        "from keras.models import Model\n",
        "from keras.callbacks import EarlyStopping, ModelCheckpoint\n",
        "from keras import backend as K\n",
        "K.clear_session()\n",
        "\n",
        "inputs = Input(shape=(8000,1))\n",
        "x = BatchNormalization(axis=-1, momentum=0.99, epsilon=1e-3, center=True, scale=True)(inputs)\n",
        "\n",
        "#First Conv1D layer\n",
        "x = Conv1D(8,13, padding='valid', activation='relu', strides=1)(x)\n",
        "x = MaxPooling1D(3)(x)\n",
        "x = Dropout(0.3)(x)\n",
        "\n",
        "#Second Conv1D layer\n",
        "x = Conv1D(16, 11, padding='valid', activation='relu', strides=1)(x)\n",
        "x = MaxPooling1D(3)(x)\n",
        "x = Dropout(0.3)(x)\n",
        "\n",
        "#Third Conv1D layer\n",
        "x = Conv1D(32, 9, padding='valid', activation='relu', strides=1)(x)\n",
        "x = MaxPooling1D(3)(x)\n",
        "x = Dropout(0.3)(x)\n",
        "\n",
        "x = BatchNormalization(axis=-1, momentum=0.99, epsilon=1e-3, center=True, scale=True)(x)\n",
        "x = Bidirectional(CuDNNGRU(128, return_sequences=True), merge_mode='sum')(x)\n",
        "x = Bidirectional(CuDNNGRU(128, return_sequences=True), merge_mode='sum')(x)\n",
        "x = Bidirectional(CuDNNGRU(128, return_sequences=False), merge_mode='sum')(x)\n",
        "\n",
        "x = BatchNormalization(axis=-1, momentum=0.99, epsilon=1e-3, center=True, scale=True)(x)\n",
        "\n",
        "#Flatten layer\n",
        "# x = Flatten()(x)\n",
        "\n",
        "#Dense Layer 1\n",
        "x = Dense(256, activation='relu')(x)\n",
        "outputs = Dense(len(labels), activation=\"softmax\")(x)\n",
        "\n",
        "model = Model(inputs, outputs)\n",
        "model.summary()"
      ]
    },
    {
      "cell_type": "code",
      "execution_count": null,
      "metadata": {
        "id": "x4ufdQOyFY_J"
      },
      "outputs": [],
      "source": [
        "model.compile(loss='categorical_crossentropy',optimizer='nadam',metrics=['accuracy'])"
      ]
    },
    {
      "cell_type": "code",
      "execution_count": null,
      "metadata": {
        "id": "qzhGXUQpFg3d"
      },
      "outputs": [],
      "source": [
        "early_stop = EarlyStopping(monitor='val_loss', mode='min', \n",
        "                           verbose=1, patience=10, min_delta=0.0001)\n",
        "\n",
        "checkpoint = ModelCheckpoint('speech2text_model.hdf5', monitor='val_acc', \n",
        "                             verbose=1, save_best_only=True, mode='max')"
      ]
    },
    {
      "cell_type": "code",
      "execution_count": null,
      "metadata": {
        "colab": {
          "base_uri": "https://localhost:8080/"
        },
        "id": "a19tpd6tFpcm",
        "outputId": "a826caaa-37b9-457d-a7b6-df7eb15dd83f"
      },
      "outputs": [
        {
          "output_type": "stream",
          "name": "stdout",
          "text": [
            "Epoch 1/3\n",
            "226/226 [==============================] - ETA: 0s - loss: 1.0656 - accuracy: 0.4579"
          ]
        },
        {
          "output_type": "stream",
          "name": "stderr",
          "text": [
            "WARNING:tensorflow:Can save best model only with val_acc available, skipping.\n"
          ]
        },
        {
          "output_type": "stream",
          "name": "stdout",
          "text": [
            "\b\b\b\b\b\b\b\b\b\b\b\b\b\b\b\b\b\b\b\b\b\b\b\b\b\b\b\b\b\b\b\b\b\b\b\b\b\b\b\b\b\b\b\b\b\b\b\b\b\b\b\b\b\b\b\b\b\b\b\b\b\b\b\b\b\b\b\b\b\b\b\b\b\b\b\b\b\b\b\b\b\b\b\b\r226/226 [==============================] - 36s 89ms/step - loss: 1.0656 - accuracy: 0.4579 - val_loss: 1.3132 - val_accuracy: 0.4184\n",
            "Epoch 2/3\n",
            "225/226 [============================>.] - ETA: 0s - loss: 0.4511 - accuracy: 0.8204"
          ]
        },
        {
          "output_type": "stream",
          "name": "stderr",
          "text": [
            "WARNING:tensorflow:Can save best model only with val_acc available, skipping.\n"
          ]
        },
        {
          "output_type": "stream",
          "name": "stdout",
          "text": [
            "\b\b\b\b\b\b\b\b\b\b\b\b\b\b\b\b\b\b\b\b\b\b\b\b\b\b\b\b\b\b\b\b\b\b\b\b\b\b\b\b\b\b\b\b\b\b\b\b\b\b\b\b\b\b\b\b\b\b\b\b\b\b\b\b\b\b\b\b\b\b\b\b\b\b\b\b\b\b\b\b\b\b\b\b\r226/226 [==============================] - 19s 84ms/step - loss: 0.4513 - accuracy: 0.8204 - val_loss: 0.9407 - val_accuracy: 0.5105\n",
            "Epoch 3/3\n",
            "225/226 [============================>.] - ETA: 0s - loss: 0.2231 - accuracy: 0.9161"
          ]
        },
        {
          "output_type": "stream",
          "name": "stderr",
          "text": [
            "WARNING:tensorflow:Can save best model only with val_acc available, skipping.\n"
          ]
        },
        {
          "output_type": "stream",
          "name": "stdout",
          "text": [
            "\b\b\b\b\b\b\b\b\b\b\b\b\b\b\b\b\b\b\b\b\b\b\b\b\b\b\b\b\b\b\b\b\b\b\b\b\b\b\b\b\b\b\b\b\b\b\b\b\b\b\b\b\b\b\b\b\b\b\b\b\b\b\b\b\b\b\b\b\b\b\b\b\b\b\b\b\b\b\b\b\b\b\b\b\r226/226 [==============================] - 19s 85ms/step - loss: 0.2230 - accuracy: 0.9162 - val_loss: 0.2503 - val_accuracy: 0.9034\n"
          ]
        }
      ],
      "source": [
        "hist = model.fit(\n",
        "    x=x_train, \n",
        "    y=y_train,\n",
        "    epochs=3, \n",
        "    callbacks=[early_stop, checkpoint], \n",
        "    batch_size=32, \n",
        "    validation_data=(x_valid,y_valid)\n",
        ")"
      ]
    },
    {
      "cell_type": "code",
      "execution_count": null,
      "metadata": {
        "id": "xkgeVf3iGUoX"
      },
      "outputs": [],
      "source": [
        "model.save('speech2text_model.hdf5')"
      ]
    },
    {
      "cell_type": "code",
      "execution_count": null,
      "metadata": {
        "id": "xdmifiALGb1a"
      },
      "outputs": [],
      "source": [
        "from keras.models import load_model\n",
        "model = load_model('speech2text_model.hdf5')"
      ]
    },
    {
      "cell_type": "code",
      "execution_count": null,
      "metadata": {
        "id": "VxcD2ODBGmsg"
      },
      "outputs": [],
      "source": [
        "def s2t_predict(audio, shape_num=8000):\n",
        "    prob = model.predict(audio.reshape(1,-1,1))   #audio.reshape((1, -1, 1))\n",
        "    index = np.argmax(prob[0])\n",
        "    return classes[index]"
      ]
    },
    {
      "cell_type": "code",
      "source": [
        "audio, audio_rate = librosa.load('01bb6a2a_nohash_3.wav')\n",
        "audio_sample = librosa.resample(audio, audio_rate, 8000)\n",
        "ipd.Audio(audio_sample,rate=8000)\n",
        "audio_sample\n"
      ],
      "metadata": {
        "colab": {
          "base_uri": "https://localhost:8080/"
        },
        "id": "hkWfnbdzV4lo",
        "outputId": "58f5fe38-0421-4429-9a4b-41fc67363519"
      },
      "execution_count": null,
      "outputs": [
        {
          "output_type": "execute_result",
          "data": {
            "text/plain": [
              "array([-0.03714728, -0.06518734, -0.07528991, ..., -0.06925637,\n",
              "       -0.07490504, -0.08470757], dtype=float32)"
            ]
          },
          "metadata": {},
          "execution_count": 162
        }
      ]
    },
    {
      "cell_type": "code",
      "source": [
        "print(\"Predicted Text:\", s2t_predict(audio_sample))"
      ],
      "metadata": {
        "colab": {
          "base_uri": "https://localhost:8080/"
        },
        "id": "S1W2aioT_aCw",
        "outputId": "47166f54-197a-4c82-9c67-03c527d1c0e2"
      },
      "execution_count": null,
      "outputs": [
        {
          "output_type": "stream",
          "name": "stdout",
          "text": [
            "Predicted Text: zero\n"
          ]
        }
      ]
    }
  ],
  "metadata": {
    "accelerator": "GPU",
    "colab": {
      "provenance": [],
      "include_colab_link": true
    },
    "kernelspec": {
      "display_name": "Python 3",
      "name": "python3"
    },
    "language_info": {
      "name": "python"
    }
  },
  "nbformat": 4,
  "nbformat_minor": 0
}